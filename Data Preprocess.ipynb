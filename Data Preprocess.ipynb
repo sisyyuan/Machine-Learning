{
 "cells": [
  {
   "cell_type": "code",
   "execution_count": 41,
   "metadata": {},
   "outputs": [],
   "source": [
    "import pandas as pd\n",
    "from pandas import ExcelWriter\n",
    "from pandas import ExcelFile\n",
    "import numpy as np"
   ]
  },
  {
   "cell_type": "code",
   "execution_count": 42,
   "metadata": {},
   "outputs": [
    {
     "name": "stderr",
     "output_type": "stream",
     "text": [
      "/Library/Frameworks/Python.framework/Versions/3.7/lib/python3.7/site-packages/pandas/util/_decorators.py:188: FutureWarning: The `sheetname` keyword is deprecated, use `sheet_name` instead\n",
      "  return func(*args, **kwargs)\n"
     ]
    },
    {
     "data": {
      "text/plain": [
       "(362,)"
      ]
     },
     "execution_count": 42,
     "metadata": {},
     "output_type": "execute_result"
    }
   ],
   "source": [
    "## To find the number of drugs in drug combination file. All in \n",
    "drugcombination = pd.read_excel('41467_2019_9186_MOESM5_ESM.xlsx', sheetname='All drug combinations')\n",
    "drug = pd.unique(df[[\"Interaction_A(DrugBank_ID)\",\"Interaction_B(DrugBank_ID)\"]].values.ravel())[:-2]\n",
    "drug.shape"
   ]
  },
  {
   "cell_type": "code",
   "execution_count": 63,
   "metadata": {},
   "outputs": [
    {
     "data": {
      "text/plain": [
       "(362,)"
      ]
     },
     "execution_count": 63,
     "metadata": {},
     "output_type": "execute_result"
    }
   ],
   "source": [
    "start = pd.unique(drugbank.loc[drugbank.start.str.startswith('DB', na=False)].start)\n",
    "commondrug = np.intersect1d(drug,start)\n",
    "commondrug.shape"
   ]
  },
  {
   "cell_type": "code",
   "execution_count": 179,
   "metadata": {},
   "outputs": [
    {
     "name": "stdout",
     "output_type": "stream",
     "text": [
      "(119856, 3)\n",
      "interaction\n",
      "ACTIVE_SITE                1032\n",
      "BINDING_SITE                835\n",
      "CONSERVED_SITE             3913\n",
      "DOMAIN                    30472\n",
      "FAMILY                    16965\n",
      "HOMOLOGOUS_SUPERFAMILY    22900\n",
      "PROTEIN_DISEASE            5577\n",
      "PROTEIN_PATHWAY           38162\n",
      "dtype: int64\n",
      "                        start  interaction   end\n",
      "interaction                                     \n",
      "ACTIVE_SITE               883            1    92\n",
      "BINDING_SITE              828            1    57\n",
      "CONSERVED_SITE           3552            1   463\n",
      "DOMAIN                  14151            1  4727\n",
      "FAMILY                  12472            1  8353\n",
      "HOMOLOGOUS_SUPERFAMILY  13384            1  1383\n",
      "PROTEIN_DISEASE          3705            1  4883\n",
      "PROTEIN_PATHWAY         10723            1  1783\n"
     ]
    }
   ],
   "source": [
    "###protein\n",
    "uniprot = pd.read_csv('drugtargets_trimodel/data/kg_data/uniprot-human-kg.tsv',sep = '\\t',header=None,names = (\"start\",\"interaction\",\"end\"))\n",
    "uniprot.drop(uniprot[uniprot.interaction == 'EC_LVL1'].index, inplace=True)\n",
    "uniprot.drop(uniprot[uniprot.interaction == 'EC_LVL2'].index, inplace=True)\n",
    "uniprot.drop(uniprot[uniprot.interaction == 'EC_LVL3'].index, inplace=True)\n",
    "uniprot.drop(uniprot[uniprot.interaction == 'EC_LVL4'].index, inplace=True)\n",
    "uniprot.drop(uniprot[uniprot.interaction == 'PTM'].index, inplace=True)\n",
    "uniprot.drop(uniprot[uniprot.interaction == 'REPEAT'].index, inplace=True)\n",
    "uniprot.drop(uniprot[uniprot.interaction == 'BIOLOGICAL_PROCESS'].index, inplace=True)\n",
    "uniprot.drop(uniprot[uniprot.interaction == 'CELL_COMPONENT'].index, inplace=True)\n",
    "uniprot.drop(uniprot[uniprot.interaction == 'MOLECULAR_FUNCTION'].index, inplace=True)\n",
    "uniprot.drop(uniprot[uniprot.interaction == 'PROTEIN_ANTIBODY'].index, inplace=True)\n",
    "uniprot.drop(uniprot[uniprot.interaction == 'TARGET_OF_DRUG'].index, inplace=True)\n",
    "print(uniprot.shape)\n",
    "print(uniprot.groupby('interaction').size())\n",
    "print(uniprot.groupby('interaction').nunique())\n",
    "uniprot.to_csv(r'Data/protein_kg.txt', header=None, index=None, sep='\\t')"
   ]
  },
  {
   "cell_type": "code",
   "execution_count": 180,
   "metadata": {},
   "outputs": [
    {
     "name": "stdout",
     "output_type": "stream",
     "text": [
      "(174143, 3)\n",
      "interaction\n",
      "DRUG_CARRIER          515\n",
      "DRUG_CATEGORY       55926\n",
      "DRUG_ENZYME          4480\n",
      "DRUG_PATHWAY         4670\n",
      "DRUG_TARGET         17382\n",
      "DRUG_TRANSPORTER     2238\n",
      "PATHWAY_CATEGORY     4670\n",
      "PATHWAY_ENZYME      84262\n",
      "dtype: int64\n",
      "                  start  interaction   end\n",
      "interaction                               \n",
      "DRUG_CARRIER        374            1    66\n",
      "DRUG_CATEGORY      5582            1  2191\n",
      "DRUG_ENZYME        1359            1   354\n",
      "DRUG_PATHWAY        691            1  1420\n",
      "DRUG_TARGET        7060            1  4256\n",
      "DRUG_TRANSPORTER    757            1   184\n",
      "PATHWAY_CATEGORY   1420            1     6\n",
      "PATHWAY_ENZYME     1376            1  3456\n"
     ]
    }
   ],
   "source": [
    "### drug\n",
    "drugbank = pd.read_csv('drugtargets_trimodel/data/kg_data/drugbank_facts.txt',sep = '\\t',header=None,names = (\"start\",\"interaction\",\"end\"))\n",
    "drugbank.drop(drugbank[drugbank.interaction == 'DRUG_ATC_C1'].index, inplace=True)\n",
    "drugbank.drop(drugbank[drugbank.interaction == 'DRUG_ATC_C2'].index, inplace=True)\n",
    "drugbank.drop(drugbank[drugbank.interaction == 'DRUG_ATC_C3'].index, inplace=True)\n",
    "drugbank.drop(drugbank[drugbank.interaction == 'DRUG_ATC_C4'].index, inplace=True)\n",
    "drugbank.drop(drugbank[drugbank.interaction == 'DRUG_ATC_C5'].index, inplace=True)\n",
    "drugbank.drop(drugbank[drugbank.interaction == 'TYPE'].index, inplace=True)\n",
    "print(drugbank.shape)\n",
    "print(drugbank.groupby('interaction').size())\n",
    "print(drugbank.groupby('interaction').nunique())\n",
    "drugbank.to_csv(r'Data/drug_kg.txt', header=None, index=None, sep='\\t')"
   ]
  },
  {
   "cell_type": "code",
   "execution_count": 171,
   "metadata": {},
   "outputs": [
    {
     "name": "stdout",
     "output_type": "stream",
     "text": [
      "(59222, 3)\n",
      "interaction\n",
      "DRUG_ATC_C1                823\n",
      "DRUG_ATC_C2                877\n",
      "DRUG_ATC_C3                894\n",
      "DRUG_ATC_C4                902\n",
      "DRUG_ATC_C5                902\n",
      "DRUG_BRITE                3354\n",
      "DRUG_CLASS                 703\n",
      "DRUG_COMPONENT_DRUG          8\n",
      "DRUG_EFFICACY             1696\n",
      "DRUG_EFFICACY_DISEASE      454\n",
      "DRUG_GROUP                2714\n",
      "DRUG_INTERACTION_GENE       97\n",
      "DRUG_METABOLISM_GENE       266\n",
      "DRUG_PATHWAY_MAP           841\n",
      "DRUG_SAME_COMPOUND         368\n",
      "DRUG_TARGET_PATHWAY       1340\n",
      "GENE_BRITE                2572\n",
      "GENE_DISEASE               709\n",
      "GENE_EC1                   663\n",
      "GENE_EC2                   669\n",
      "GENE_EC3                   676\n",
      "GENE_EC4                   753\n",
      "GENE_MODULE                199\n",
      "GENE_MOTIF                4374\n",
      "GENE_NETWORK               804\n",
      "GENE_PATHAWY              5551\n",
      "PATHWAY_CLASS              232\n",
      "PATHWAY_COMPOUND          2686\n",
      "PATHWAY_COMPOUND_DRUG     2972\n",
      "PATHWAY_DISEASE            810\n",
      "PATHWAY_DRUG              7093\n",
      "PATHWAY_GENE             10026\n",
      "PATHWAY_MODULE              64\n",
      "PATHWAY_NETWORK            164\n",
      "TYPE                      1966\n",
      "dtype: int64\n",
      "                       start  interaction   end\n",
      "interaction                                    \n",
      "DRUG_ATC_C1              654            1    14\n",
      "DRUG_ATC_C2              654            1    76\n",
      "DRUG_ATC_C3              654            1   148\n",
      "DRUG_ATC_C4              654            1   325\n",
      "DRUG_ATC_C5              654            1   762\n",
      "DRUG_BRITE               784            1    21\n",
      "DRUG_CLASS               703            1    15\n",
      "DRUG_COMPONENT_DRUG        4            1     8\n",
      "DRUG_EFFICACY            791            1   336\n",
      "DRUG_EFFICACY_DISEASE    243            1   173\n",
      "DRUG_GROUP               749            1   687\n",
      "DRUG_INTERACTION_GENE     65            1    19\n",
      "DRUG_METABOLISM_GENE     228            1    30\n",
      "DRUG_PATHWAY_MAP         521            1    82\n",
      "DRUG_SAME_COMPOUND       368            1   368\n",
      "DRUG_TARGET_PATHWAY      619            1   104\n",
      "GENE_BRITE               987            1    35\n",
      "GENE_DISEASE             366            1   436\n",
      "GENE_EC1                 652            1     6\n",
      "GENE_EC2                 652            1    43\n",
      "GENE_EC3                 652            1    97\n",
      "GENE_EC4                 652            1   349\n",
      "GENE_MODULE              175            1    72\n",
      "GENE_MOTIF               987            1  1221\n",
      "GENE_NETWORK             118            1   274\n",
      "GENE_PATHAWY             831            1   300\n",
      "PATHWAY_CLASS            116            1    37\n",
      "PATHWAY_COMPOUND         137            1  1714\n",
      "PATHWAY_COMPOUND_DRUG     77            1  2157\n",
      "PATHWAY_DISEASE          102            1   542\n",
      "PATHWAY_DRUG             106            1  3615\n",
      "PATHWAY_GENE             103            1  3788\n",
      "PATHWAY_MODULE            27            1    62\n",
      "PATHWAY_NETWORK           22            1   136\n",
      "TYPE                    1966            1     5\n"
     ]
    }
   ],
   "source": [
    "kegg = pd.read_csv('drugtargets_trimodel/data/kg_data/kegg_kg.txt',sep = '\\t',header=None,names = (\"start\",\"interaction\",\"end\"))\n",
    "\n",
    "#drugbank.drop(drugbank[drugbank.interaction == 'TYPE'].index, inplace=True)\n",
    "print(kegg.shape)\n",
    "print(kegg.groupby('interaction').size())\n",
    "print(kegg.groupby('interaction').nunique())"
   ]
  },
  {
   "cell_type": "code",
   "execution_count": 149,
   "metadata": {},
   "outputs": [],
   "source": [
    "relations = pd.read_csv('drugtargets_trimodel/data/kg_data/mat_drug_disease.txt',sep = ' ',header=None)"
   ]
  },
  {
   "cell_type": "code",
   "execution_count": 152,
   "metadata": {},
   "outputs": [
    {
     "data": {
      "text/plain": [
       "5603"
      ]
     },
     "execution_count": 152,
     "metadata": {},
     "output_type": "execute_result"
    }
   ],
   "source": [
    "relations.shape[1]"
   ]
  },
  {
   "cell_type": "code",
   "execution_count": 127,
   "metadata": {},
   "outputs": [
    {
     "ename": "KeyboardInterrupt",
     "evalue": "",
     "output_type": "error",
     "traceback": [
      "\u001b[0;31m---------------------------------------------------------------------------\u001b[0m",
      "\u001b[0;31mKeyboardInterrupt\u001b[0m                         Traceback (most recent call last)",
      "\u001b[0;32m<ipython-input-127-c054cb34dcf8>\u001b[0m in \u001b[0;36m<module>\u001b[0;34m\u001b[0m\n\u001b[1;32m      3\u001b[0m     \u001b[0;32mfor\u001b[0m \u001b[0mj\u001b[0m \u001b[0;32min\u001b[0m \u001b[0mrange\u001b[0m\u001b[0;34m(\u001b[0m\u001b[0mrelations\u001b[0m\u001b[0;34m.\u001b[0m\u001b[0mshape\u001b[0m\u001b[0;34m[\u001b[0m\u001b[0;36m1\u001b[0m\u001b[0;34m]\u001b[0m\u001b[0;34m)\u001b[0m\u001b[0;34m:\u001b[0m\u001b[0;34m\u001b[0m\u001b[0;34m\u001b[0m\u001b[0m\n\u001b[1;32m      4\u001b[0m         \u001b[0;32mif\u001b[0m \u001b[0mrelations\u001b[0m\u001b[0;34m.\u001b[0m\u001b[0miloc\u001b[0m\u001b[0;34m[\u001b[0m\u001b[0mi\u001b[0m\u001b[0;34m,\u001b[0m\u001b[0mj\u001b[0m\u001b[0;34m]\u001b[0m \u001b[0;34m==\u001b[0m \u001b[0;36m1\u001b[0m\u001b[0;34m:\u001b[0m\u001b[0;34m\u001b[0m\u001b[0;34m\u001b[0m\u001b[0m\n\u001b[0;32m----> 5\u001b[0;31m             \u001b[0mDrugDisease\u001b[0m \u001b[0;34m=\u001b[0m \u001b[0mDrugDisease\u001b[0m\u001b[0;34m.\u001b[0m\u001b[0mappend\u001b[0m\u001b[0;34m(\u001b[0m\u001b[0;34m{\u001b[0m\u001b[0;34m'drug'\u001b[0m \u001b[0;34m:\u001b[0m \u001b[0molddrug\u001b[0m\u001b[0;34m.\u001b[0m\u001b[0miloc\u001b[0m\u001b[0;34m[\u001b[0m\u001b[0mi\u001b[0m\u001b[0;34m,\u001b[0m\u001b[0;36m0\u001b[0m\u001b[0;34m]\u001b[0m \u001b[0;34m,\u001b[0m \u001b[0;34m'DRUG_DISEASE'\u001b[0m \u001b[0;34m:\u001b[0m \u001b[0;34m'DRUG_DISEASE'\u001b[0m\u001b[0;34m,\u001b[0m\u001b[0;34m'disease'\u001b[0m\u001b[0;34m:\u001b[0m \u001b[0;34m'Disease'\u001b[0m\u001b[0;34m+\u001b[0m\u001b[0mstr\u001b[0m\u001b[0;34m(\u001b[0m\u001b[0mj\u001b[0m\u001b[0;34m)\u001b[0m\u001b[0;34m}\u001b[0m \u001b[0;34m,\u001b[0m \u001b[0mignore_index\u001b[0m\u001b[0;34m=\u001b[0m\u001b[0;32mTrue\u001b[0m\u001b[0;34m)\u001b[0m\u001b[0;34m\u001b[0m\u001b[0;34m\u001b[0m\u001b[0m\n\u001b[0m",
      "\u001b[0;32m/Library/Frameworks/Python.framework/Versions/3.7/lib/python3.7/site-packages/pandas/core/frame.py\u001b[0m in \u001b[0;36mappend\u001b[0;34m(self, other, ignore_index, verify_integrity, sort)\u001b[0m\n\u001b[1;32m   6690\u001b[0m         return concat(to_concat, ignore_index=ignore_index,\n\u001b[1;32m   6691\u001b[0m                       \u001b[0mverify_integrity\u001b[0m\u001b[0;34m=\u001b[0m\u001b[0mverify_integrity\u001b[0m\u001b[0;34m,\u001b[0m\u001b[0;34m\u001b[0m\u001b[0;34m\u001b[0m\u001b[0m\n\u001b[0;32m-> 6692\u001b[0;31m                       sort=sort)\n\u001b[0m\u001b[1;32m   6693\u001b[0m \u001b[0;34m\u001b[0m\u001b[0m\n\u001b[1;32m   6694\u001b[0m     def join(self, other, on=None, how='left', lsuffix='', rsuffix='',\n",
      "\u001b[0;32m/Library/Frameworks/Python.framework/Versions/3.7/lib/python3.7/site-packages/pandas/core/reshape/concat.py\u001b[0m in \u001b[0;36mconcat\u001b[0;34m(objs, axis, join, join_axes, ignore_index, keys, levels, names, verify_integrity, sort, copy)\u001b[0m\n\u001b[1;32m    227\u001b[0m                        \u001b[0mverify_integrity\u001b[0m\u001b[0;34m=\u001b[0m\u001b[0mverify_integrity\u001b[0m\u001b[0;34m,\u001b[0m\u001b[0;34m\u001b[0m\u001b[0;34m\u001b[0m\u001b[0m\n\u001b[1;32m    228\u001b[0m                        copy=copy, sort=sort)\n\u001b[0;32m--> 229\u001b[0;31m     \u001b[0;32mreturn\u001b[0m \u001b[0mop\u001b[0m\u001b[0;34m.\u001b[0m\u001b[0mget_result\u001b[0m\u001b[0;34m(\u001b[0m\u001b[0;34m)\u001b[0m\u001b[0;34m\u001b[0m\u001b[0;34m\u001b[0m\u001b[0m\n\u001b[0m\u001b[1;32m    230\u001b[0m \u001b[0;34m\u001b[0m\u001b[0m\n\u001b[1;32m    231\u001b[0m \u001b[0;34m\u001b[0m\u001b[0m\n",
      "\u001b[0;32m/Library/Frameworks/Python.framework/Versions/3.7/lib/python3.7/site-packages/pandas/core/reshape/concat.py\u001b[0m in \u001b[0;36mget_result\u001b[0;34m(self)\u001b[0m\n\u001b[1;32m    424\u001b[0m             new_data = concatenate_block_managers(\n\u001b[1;32m    425\u001b[0m                 \u001b[0mmgrs_indexers\u001b[0m\u001b[0;34m,\u001b[0m \u001b[0mself\u001b[0m\u001b[0;34m.\u001b[0m\u001b[0mnew_axes\u001b[0m\u001b[0;34m,\u001b[0m \u001b[0mconcat_axis\u001b[0m\u001b[0;34m=\u001b[0m\u001b[0mself\u001b[0m\u001b[0;34m.\u001b[0m\u001b[0maxis\u001b[0m\u001b[0;34m,\u001b[0m\u001b[0;34m\u001b[0m\u001b[0;34m\u001b[0m\u001b[0m\n\u001b[0;32m--> 426\u001b[0;31m                 copy=self.copy)\n\u001b[0m\u001b[1;32m    427\u001b[0m             \u001b[0;32mif\u001b[0m \u001b[0;32mnot\u001b[0m \u001b[0mself\u001b[0m\u001b[0;34m.\u001b[0m\u001b[0mcopy\u001b[0m\u001b[0;34m:\u001b[0m\u001b[0;34m\u001b[0m\u001b[0;34m\u001b[0m\u001b[0m\n\u001b[1;32m    428\u001b[0m                 \u001b[0mnew_data\u001b[0m\u001b[0;34m.\u001b[0m\u001b[0m_consolidate_inplace\u001b[0m\u001b[0;34m(\u001b[0m\u001b[0;34m)\u001b[0m\u001b[0;34m\u001b[0m\u001b[0;34m\u001b[0m\u001b[0m\n",
      "\u001b[0;32m/Library/Frameworks/Python.framework/Versions/3.7/lib/python3.7/site-packages/pandas/core/internals/managers.py\u001b[0m in \u001b[0;36mconcatenate_block_managers\u001b[0;34m(mgrs_indexers, axes, concat_axis, copy)\u001b[0m\n\u001b[1;32m   2056\u001b[0m         \u001b[0;32melif\u001b[0m \u001b[0mis_uniform_join_units\u001b[0m\u001b[0;34m(\u001b[0m\u001b[0mjoin_units\u001b[0m\u001b[0;34m)\u001b[0m\u001b[0;34m:\u001b[0m\u001b[0;34m\u001b[0m\u001b[0;34m\u001b[0m\u001b[0m\n\u001b[1;32m   2057\u001b[0m             b = join_units[0].block.concat_same_type(\n\u001b[0;32m-> 2058\u001b[0;31m                 [ju.block for ju in join_units], placement=placement)\n\u001b[0m\u001b[1;32m   2059\u001b[0m         \u001b[0;32melse\u001b[0m\u001b[0;34m:\u001b[0m\u001b[0;34m\u001b[0m\u001b[0;34m\u001b[0m\u001b[0m\n\u001b[1;32m   2060\u001b[0m             b = make_block(\n",
      "\u001b[0;32m/Library/Frameworks/Python.framework/Versions/3.7/lib/python3.7/site-packages/pandas/core/internals/blocks.py\u001b[0m in \u001b[0;36mconcat_same_type\u001b[0;34m(self, to_concat, placement)\u001b[0m\n\u001b[1;32m    326\u001b[0m         \"\"\"\n\u001b[1;32m    327\u001b[0m         values = self._concatenator([blk.values for blk in to_concat],\n\u001b[0;32m--> 328\u001b[0;31m                                     axis=self.ndim - 1)\n\u001b[0m\u001b[1;32m    329\u001b[0m         return self.make_block_same_class(\n\u001b[1;32m    330\u001b[0m             values, placement=placement or slice(0, len(values), 1))\n",
      "\u001b[0;31mKeyboardInterrupt\u001b[0m: "
     ]
    }
   ],
   "source": [
    "## add drug_disease\n",
    "olddrug = pd.read_csv('drugtargets_trimodel/data/kg_data/drug.txt',header=None)\n",
    "olddisease = pd.read_csv('drugtargets_trimodel/data/kg_data/disease.txt',sep = '\\t', header=None)\n",
    "relations = pd.read_csv('drugtargets_trimodel/data/kg_data/mat_drug_disease.txt',sep = ' ',header=None)\n",
    "DrugDisease = pd.DataFrame(columns = ['drug', 'DRUG_DISEASE','disease'])\n",
    "for i in range(relations.shape[0]):\n",
    "    for j in range(relations.shape[1]):\n",
    "        if relations.iloc[i,j] == 1:\n",
    "            DrugDisease = DrugDisease.append({'drug' : olddrug.iloc[i,0] , 'DRUG_DISEASE' : 'DRUG_DISEASE','disease': 'Disease'+str(j)} , ignore_index=True)\n",
    "DrugDisease.to_csv(r'DrugDisease.txt', header=None, index=None, sep='\\t')"
   ]
  },
  {
   "cell_type": "code",
   "execution_count": 181,
   "metadata": {},
   "outputs": [
    {
     "ename": "KeyboardInterrupt",
     "evalue": "",
     "output_type": "error",
     "traceback": [
      "\u001b[0;31m---------------------------------------------------------------------------\u001b[0m",
      "\u001b[0;31mKeyboardInterrupt\u001b[0m                         Traceback (most recent call last)",
      "\u001b[0;32m<ipython-input-181-82e24f1ca054>\u001b[0m in \u001b[0;36m<module>\u001b[0;34m\u001b[0m\n\u001b[1;32m      7\u001b[0m     \u001b[0;32mfor\u001b[0m \u001b[0mj\u001b[0m \u001b[0;32min\u001b[0m \u001b[0mrange\u001b[0m\u001b[0;34m(\u001b[0m\u001b[0mpdrelations\u001b[0m\u001b[0;34m.\u001b[0m\u001b[0mshape\u001b[0m\u001b[0;34m[\u001b[0m\u001b[0;36m1\u001b[0m\u001b[0;34m]\u001b[0m\u001b[0;34m)\u001b[0m\u001b[0;34m:\u001b[0m\u001b[0;34m\u001b[0m\u001b[0;34m\u001b[0m\u001b[0m\n\u001b[1;32m      8\u001b[0m         \u001b[0;32mif\u001b[0m \u001b[0mpdrelations\u001b[0m\u001b[0;34m.\u001b[0m\u001b[0miloc\u001b[0m\u001b[0;34m[\u001b[0m\u001b[0mi\u001b[0m\u001b[0;34m,\u001b[0m\u001b[0mj\u001b[0m\u001b[0;34m]\u001b[0m \u001b[0;34m==\u001b[0m \u001b[0;36m1\u001b[0m\u001b[0;34m:\u001b[0m\u001b[0;34m\u001b[0m\u001b[0;34m\u001b[0m\u001b[0m\n\u001b[0;32m----> 9\u001b[0;31m             \u001b[0mProteinDisease\u001b[0m \u001b[0;34m=\u001b[0m \u001b[0mProteinDisease\u001b[0m\u001b[0;34m.\u001b[0m\u001b[0mappend\u001b[0m\u001b[0;34m(\u001b[0m\u001b[0;34m{\u001b[0m\u001b[0;34m'protein'\u001b[0m \u001b[0;34m:\u001b[0m \u001b[0moldprotein\u001b[0m\u001b[0;34m.\u001b[0m\u001b[0miloc\u001b[0m\u001b[0;34m[\u001b[0m\u001b[0mi\u001b[0m\u001b[0;34m,\u001b[0m\u001b[0;36m0\u001b[0m\u001b[0;34m]\u001b[0m \u001b[0;34m,\u001b[0m \u001b[0;34m'protein_disease'\u001b[0m \u001b[0;34m:\u001b[0m \u001b[0;34m'PROTEIN_DISEASE'\u001b[0m\u001b[0;34m,\u001b[0m\u001b[0;34m'disease'\u001b[0m\u001b[0;34m:\u001b[0m\u001b[0;34m'Disease'\u001b[0m\u001b[0;34m+\u001b[0m\u001b[0mstr\u001b[0m\u001b[0;34m(\u001b[0m\u001b[0mj\u001b[0m\u001b[0;34m)\u001b[0m\u001b[0;34m}\u001b[0m \u001b[0;34m,\u001b[0m \u001b[0mignore_index\u001b[0m\u001b[0;34m=\u001b[0m\u001b[0;32mTrue\u001b[0m\u001b[0;34m)\u001b[0m\u001b[0;34m\u001b[0m\u001b[0;34m\u001b[0m\u001b[0m\n\u001b[0m\u001b[1;32m     10\u001b[0m \u001b[0mProteinDisease\u001b[0m\u001b[0;34m.\u001b[0m\u001b[0mto_csv\u001b[0m\u001b[0;34m(\u001b[0m\u001b[0;34mr'ProteinDisease.txt'\u001b[0m\u001b[0;34m,\u001b[0m \u001b[0mheader\u001b[0m\u001b[0;34m=\u001b[0m\u001b[0;32mNone\u001b[0m\u001b[0;34m,\u001b[0m \u001b[0mindex\u001b[0m\u001b[0;34m=\u001b[0m\u001b[0;32mNone\u001b[0m\u001b[0;34m,\u001b[0m \u001b[0msep\u001b[0m\u001b[0;34m=\u001b[0m\u001b[0;34m'\\t'\u001b[0m\u001b[0;34m)\u001b[0m\u001b[0;34m\u001b[0m\u001b[0;34m\u001b[0m\u001b[0m\n",
      "\u001b[0;32m/Library/Frameworks/Python.framework/Versions/3.7/lib/python3.7/site-packages/pandas/core/frame.py\u001b[0m in \u001b[0;36mappend\u001b[0;34m(self, other, ignore_index, verify_integrity, sort)\u001b[0m\n\u001b[1;32m   6690\u001b[0m         return concat(to_concat, ignore_index=ignore_index,\n\u001b[1;32m   6691\u001b[0m                       \u001b[0mverify_integrity\u001b[0m\u001b[0;34m=\u001b[0m\u001b[0mverify_integrity\u001b[0m\u001b[0;34m,\u001b[0m\u001b[0;34m\u001b[0m\u001b[0;34m\u001b[0m\u001b[0m\n\u001b[0;32m-> 6692\u001b[0;31m                       sort=sort)\n\u001b[0m\u001b[1;32m   6693\u001b[0m \u001b[0;34m\u001b[0m\u001b[0m\n\u001b[1;32m   6694\u001b[0m     def join(self, other, on=None, how='left', lsuffix='', rsuffix='',\n",
      "\u001b[0;32m/Library/Frameworks/Python.framework/Versions/3.7/lib/python3.7/site-packages/pandas/core/reshape/concat.py\u001b[0m in \u001b[0;36mconcat\u001b[0;34m(objs, axis, join, join_axes, ignore_index, keys, levels, names, verify_integrity, sort, copy)\u001b[0m\n\u001b[1;32m    226\u001b[0m                        \u001b[0mkeys\u001b[0m\u001b[0;34m=\u001b[0m\u001b[0mkeys\u001b[0m\u001b[0;34m,\u001b[0m \u001b[0mlevels\u001b[0m\u001b[0;34m=\u001b[0m\u001b[0mlevels\u001b[0m\u001b[0;34m,\u001b[0m \u001b[0mnames\u001b[0m\u001b[0;34m=\u001b[0m\u001b[0mnames\u001b[0m\u001b[0;34m,\u001b[0m\u001b[0;34m\u001b[0m\u001b[0;34m\u001b[0m\u001b[0m\n\u001b[1;32m    227\u001b[0m                        \u001b[0mverify_integrity\u001b[0m\u001b[0;34m=\u001b[0m\u001b[0mverify_integrity\u001b[0m\u001b[0;34m,\u001b[0m\u001b[0;34m\u001b[0m\u001b[0;34m\u001b[0m\u001b[0m\n\u001b[0;32m--> 228\u001b[0;31m                        copy=copy, sort=sort)\n\u001b[0m\u001b[1;32m    229\u001b[0m     \u001b[0;32mreturn\u001b[0m \u001b[0mop\u001b[0m\u001b[0;34m.\u001b[0m\u001b[0mget_result\u001b[0m\u001b[0;34m(\u001b[0m\u001b[0;34m)\u001b[0m\u001b[0;34m\u001b[0m\u001b[0;34m\u001b[0m\u001b[0m\n\u001b[1;32m    230\u001b[0m \u001b[0;34m\u001b[0m\u001b[0m\n",
      "\u001b[0;32m/Library/Frameworks/Python.framework/Versions/3.7/lib/python3.7/site-packages/pandas/core/reshape/concat.py\u001b[0m in \u001b[0;36m__init__\u001b[0;34m(self, objs, axis, join, join_axes, keys, levels, names, ignore_index, verify_integrity, copy, sort)\u001b[0m\n\u001b[1;32m    379\u001b[0m         \u001b[0mself\u001b[0m\u001b[0;34m.\u001b[0m\u001b[0mcopy\u001b[0m \u001b[0;34m=\u001b[0m \u001b[0mcopy\u001b[0m\u001b[0;34m\u001b[0m\u001b[0;34m\u001b[0m\u001b[0m\n\u001b[1;32m    380\u001b[0m \u001b[0;34m\u001b[0m\u001b[0m\n\u001b[0;32m--> 381\u001b[0;31m         \u001b[0mself\u001b[0m\u001b[0;34m.\u001b[0m\u001b[0mnew_axes\u001b[0m \u001b[0;34m=\u001b[0m \u001b[0mself\u001b[0m\u001b[0;34m.\u001b[0m\u001b[0m_get_new_axes\u001b[0m\u001b[0;34m(\u001b[0m\u001b[0;34m)\u001b[0m\u001b[0;34m\u001b[0m\u001b[0;34m\u001b[0m\u001b[0m\n\u001b[0m\u001b[1;32m    382\u001b[0m \u001b[0;34m\u001b[0m\u001b[0m\n\u001b[1;32m    383\u001b[0m     \u001b[0;32mdef\u001b[0m \u001b[0mget_result\u001b[0m\u001b[0;34m(\u001b[0m\u001b[0mself\u001b[0m\u001b[0;34m)\u001b[0m\u001b[0;34m:\u001b[0m\u001b[0;34m\u001b[0m\u001b[0;34m\u001b[0m\u001b[0m\n",
      "\u001b[0;32m/Library/Frameworks/Python.framework/Versions/3.7/lib/python3.7/site-packages/pandas/core/reshape/concat.py\u001b[0m in \u001b[0;36m_get_new_axes\u001b[0;34m(self)\u001b[0m\n\u001b[1;32m    459\u001b[0m                 \u001b[0mnew_axes\u001b[0m\u001b[0;34m[\u001b[0m\u001b[0mi\u001b[0m\u001b[0;34m]\u001b[0m \u001b[0;34m=\u001b[0m \u001b[0max\u001b[0m\u001b[0;34m\u001b[0m\u001b[0;34m\u001b[0m\u001b[0m\n\u001b[1;32m    460\u001b[0m \u001b[0;34m\u001b[0m\u001b[0m\n\u001b[0;32m--> 461\u001b[0;31m         \u001b[0mnew_axes\u001b[0m\u001b[0;34m[\u001b[0m\u001b[0mself\u001b[0m\u001b[0;34m.\u001b[0m\u001b[0maxis\u001b[0m\u001b[0;34m]\u001b[0m \u001b[0;34m=\u001b[0m \u001b[0mself\u001b[0m\u001b[0;34m.\u001b[0m\u001b[0m_get_concat_axis\u001b[0m\u001b[0;34m(\u001b[0m\u001b[0;34m)\u001b[0m\u001b[0;34m\u001b[0m\u001b[0;34m\u001b[0m\u001b[0m\n\u001b[0m\u001b[1;32m    462\u001b[0m         \u001b[0;32mreturn\u001b[0m \u001b[0mnew_axes\u001b[0m\u001b[0;34m\u001b[0m\u001b[0;34m\u001b[0m\u001b[0m\n\u001b[1;32m    463\u001b[0m \u001b[0;34m\u001b[0m\u001b[0m\n",
      "\u001b[0;32m/Library/Frameworks/Python.framework/Versions/3.7/lib/python3.7/site-packages/pandas/core/reshape/concat.py\u001b[0m in \u001b[0;36m_get_concat_axis\u001b[0;34m(self)\u001b[0m\n\u001b[1;32m    508\u001b[0m \u001b[0;34m\u001b[0m\u001b[0m\n\u001b[1;32m    509\u001b[0m         \u001b[0;32mif\u001b[0m \u001b[0mself\u001b[0m\u001b[0;34m.\u001b[0m\u001b[0mignore_index\u001b[0m\u001b[0;34m:\u001b[0m\u001b[0;34m\u001b[0m\u001b[0;34m\u001b[0m\u001b[0m\n\u001b[0;32m--> 510\u001b[0;31m             \u001b[0midx\u001b[0m \u001b[0;34m=\u001b[0m \u001b[0mibase\u001b[0m\u001b[0;34m.\u001b[0m\u001b[0mdefault_index\u001b[0m\u001b[0;34m(\u001b[0m\u001b[0msum\u001b[0m\u001b[0;34m(\u001b[0m\u001b[0mlen\u001b[0m\u001b[0;34m(\u001b[0m\u001b[0mi\u001b[0m\u001b[0;34m)\u001b[0m \u001b[0;32mfor\u001b[0m \u001b[0mi\u001b[0m \u001b[0;32min\u001b[0m \u001b[0mindexes\u001b[0m\u001b[0;34m)\u001b[0m\u001b[0;34m)\u001b[0m\u001b[0;34m\u001b[0m\u001b[0;34m\u001b[0m\u001b[0m\n\u001b[0m\u001b[1;32m    511\u001b[0m             \u001b[0;32mreturn\u001b[0m \u001b[0midx\u001b[0m\u001b[0;34m\u001b[0m\u001b[0;34m\u001b[0m\u001b[0m\n\u001b[1;32m    512\u001b[0m \u001b[0;34m\u001b[0m\u001b[0m\n",
      "\u001b[0;32m/Library/Frameworks/Python.framework/Versions/3.7/lib/python3.7/site-packages/pandas/core/indexes/base.py\u001b[0m in \u001b[0;36mdefault_index\u001b[0;34m(n)\u001b[0m\n\u001b[1;32m   5408\u001b[0m \u001b[0;32mdef\u001b[0m \u001b[0mdefault_index\u001b[0m\u001b[0;34m(\u001b[0m\u001b[0mn\u001b[0m\u001b[0;34m)\u001b[0m\u001b[0;34m:\u001b[0m\u001b[0;34m\u001b[0m\u001b[0;34m\u001b[0m\u001b[0m\n\u001b[1;32m   5409\u001b[0m     \u001b[0;32mfrom\u001b[0m \u001b[0mpandas\u001b[0m\u001b[0;34m.\u001b[0m\u001b[0mcore\u001b[0m\u001b[0;34m.\u001b[0m\u001b[0mindex\u001b[0m \u001b[0;32mimport\u001b[0m \u001b[0mRangeIndex\u001b[0m\u001b[0;34m\u001b[0m\u001b[0;34m\u001b[0m\u001b[0m\n\u001b[0;32m-> 5410\u001b[0;31m     \u001b[0;32mreturn\u001b[0m \u001b[0mRangeIndex\u001b[0m\u001b[0;34m(\u001b[0m\u001b[0;36m0\u001b[0m\u001b[0;34m,\u001b[0m \u001b[0mn\u001b[0m\u001b[0;34m,\u001b[0m \u001b[0mname\u001b[0m\u001b[0;34m=\u001b[0m\u001b[0;32mNone\u001b[0m\u001b[0;34m)\u001b[0m\u001b[0;34m\u001b[0m\u001b[0;34m\u001b[0m\u001b[0m\n\u001b[0m",
      "\u001b[0;32m/Library/Frameworks/Python.framework/Versions/3.7/lib/python3.7/site-packages/pandas/core/indexes/range.py\u001b[0m in \u001b[0;36m__new__\u001b[0;34m(cls, start, stop, step, dtype, copy, name, fastpath)\u001b[0m\n\u001b[1;32m    121\u001b[0m             \u001b[0mstep\u001b[0m \u001b[0;34m=\u001b[0m \u001b[0mensure_int\u001b[0m\u001b[0;34m(\u001b[0m\u001b[0mstep\u001b[0m\u001b[0;34m,\u001b[0m \u001b[0;34m'step'\u001b[0m\u001b[0;34m)\u001b[0m\u001b[0;34m\u001b[0m\u001b[0;34m\u001b[0m\u001b[0m\n\u001b[1;32m    122\u001b[0m \u001b[0;34m\u001b[0m\u001b[0m\n\u001b[0;32m--> 123\u001b[0;31m         \u001b[0;32mreturn\u001b[0m \u001b[0mcls\u001b[0m\u001b[0;34m.\u001b[0m\u001b[0m_simple_new\u001b[0m\u001b[0;34m(\u001b[0m\u001b[0mstart\u001b[0m\u001b[0;34m,\u001b[0m \u001b[0mstop\u001b[0m\u001b[0;34m,\u001b[0m \u001b[0mstep\u001b[0m\u001b[0;34m,\u001b[0m \u001b[0mname\u001b[0m\u001b[0;34m)\u001b[0m\u001b[0;34m\u001b[0m\u001b[0;34m\u001b[0m\u001b[0m\n\u001b[0m\u001b[1;32m    124\u001b[0m \u001b[0;34m\u001b[0m\u001b[0m\n\u001b[1;32m    125\u001b[0m     \u001b[0;34m@\u001b[0m\u001b[0mclassmethod\u001b[0m\u001b[0;34m\u001b[0m\u001b[0;34m\u001b[0m\u001b[0m\n",
      "\u001b[0;32m/Library/Frameworks/Python.framework/Versions/3.7/lib/python3.7/site-packages/pandas/core/indexes/range.py\u001b[0m in \u001b[0;36m_simple_new\u001b[0;34m(cls, start, stop, step, name, dtype, **kwargs)\u001b[0m\n\u001b[1;32m    152\u001b[0m \u001b[0;34m\u001b[0m\u001b[0m\n\u001b[1;32m    153\u001b[0m         \u001b[0mresult\u001b[0m\u001b[0;34m.\u001b[0m\u001b[0m_start\u001b[0m \u001b[0;34m=\u001b[0m \u001b[0mstart\u001b[0m\u001b[0;34m\u001b[0m\u001b[0;34m\u001b[0m\u001b[0m\n\u001b[0;32m--> 154\u001b[0;31m         \u001b[0mresult\u001b[0m\u001b[0;34m.\u001b[0m\u001b[0m_stop\u001b[0m \u001b[0;34m=\u001b[0m \u001b[0mstop\u001b[0m \u001b[0;32mor\u001b[0m \u001b[0;36m0\u001b[0m\u001b[0;34m\u001b[0m\u001b[0;34m\u001b[0m\u001b[0m\n\u001b[0m\u001b[1;32m    155\u001b[0m         \u001b[0mresult\u001b[0m\u001b[0;34m.\u001b[0m\u001b[0m_step\u001b[0m \u001b[0;34m=\u001b[0m \u001b[0mstep\u001b[0m \u001b[0;32mor\u001b[0m \u001b[0;36m1\u001b[0m\u001b[0;34m\u001b[0m\u001b[0;34m\u001b[0m\u001b[0m\n\u001b[1;32m    156\u001b[0m         \u001b[0mresult\u001b[0m\u001b[0;34m.\u001b[0m\u001b[0mname\u001b[0m \u001b[0;34m=\u001b[0m \u001b[0mname\u001b[0m\u001b[0;34m\u001b[0m\u001b[0;34m\u001b[0m\u001b[0m\n",
      "\u001b[0;31mKeyboardInterrupt\u001b[0m: "
     ]
    }
   ],
   "source": [
    "## add protein_disease\n",
    "oldprotein = pd.read_csv('DTIdata/protein.txt',header=None)\n",
    "olddisease = pd.read_csv('DTIdata/disease.txt',sep = '\\t', header=None)\n",
    "pdrelations = pd.read_csv('DTIdata/mat_protein_disease.txt',sep = ' ',header=None)\n",
    "ProteinDisease = pd.DataFrame(columns = ['protein', 'protein_disease','disease'])\n",
    "for i in range(pdrelations.shape[0]):\n",
    "    for j in range(pdrelations.shape[1]):\n",
    "        if pdrelations.iloc[i,j] == 1:\n",
    "            ProteinDisease = ProteinDisease.append({'protein' : oldprotein.iloc[i,0] , 'protein_disease' : 'PROTEIN_DISEASE','disease':'Disease'+str(j)} , ignore_index=True)\n",
    "ProteinDisease.to_csv(r'ProteinDisease.txt', header=None, index=None, sep='\\t')"
   ]
  },
  {
   "cell_type": "code",
   "execution_count": 182,
   "metadata": {},
   "outputs": [],
   "source": [
    "ProteinDisease.to_csv(r'ProteinDisease.txt', header=None, index=None, sep='\\t')"
   ]
  },
  {
   "cell_type": "code",
   "execution_count": null,
   "metadata": {},
   "outputs": [],
   "source": [
    "pprelations = pd.read_csv('mat_protein_protein.txt',sep = ' ',header=None)\n",
    "ProteinProtein = pd.DataFrame(columns = ['protein1', 'PROTEIN_PROTEIN','protein2'])\n",
    "for i in range(pprelations.shape[0]):\n",
    "    for j in range(pprelations.shape[1]):\n",
    "        if pprelations.iloc[i,j] == 1:\n",
    "            ProteinProtein = ProteinProtein.append({'protein1' : oldprotein.iloc[i,0] , 'PROTEIN_PROTEIN' : 'PROTEIN_PROTEIN','protein2':oldprotein.iloc[j,0]} , ignore_index=True)\n",
    "ProteinProtein.to_csv(r'ProteinProtein.txt', header=None, index=None, sep='\\t')"
   ]
  }
 ],
 "metadata": {
  "kernelspec": {
   "display_name": "Python 3",
   "language": "python",
   "name": "python3"
  },
  "language_info": {
   "codemirror_mode": {
    "name": "ipython",
    "version": 3
   },
   "file_extension": ".py",
   "mimetype": "text/x-python",
   "name": "python",
   "nbconvert_exporter": "python",
   "pygments_lexer": "ipython3",
   "version": "3.7.2"
  }
 },
 "nbformat": 4,
 "nbformat_minor": 2
}
